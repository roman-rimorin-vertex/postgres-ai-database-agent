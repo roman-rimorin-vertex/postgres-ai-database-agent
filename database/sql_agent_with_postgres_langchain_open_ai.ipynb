{
 "cells": [
  {
   "cell_type": "markdown",
   "metadata": {},
   "source": [
    "# SQL Database Setup\n",
    "### Prerequisites\n",
    "\n",
    "* [Docker](https://www.docker.com)\n",
    "* Python and pip.\n"
   ]
  },
  {
   "cell_type": "markdown",
   "metadata": {},
   "source": [
    "### Set Up Environment\n",
    "\n",
    "Use pip to install required modules:"
   ]
  },
  {
   "cell_type": "code",
   "execution_count": 1,
   "metadata": {},
   "outputs": [
    {
     "name": "stdout",
     "output_type": "stream",
     "text": [
      "Requirement already satisfied: psycopg2-binary in /Library/Frameworks/Python.framework/Versions/3.9/lib/python3.9/site-packages (2.9.9)\n",
      "\u001b[33mWARNING: You are using pip version 22.0.4; however, version 24.0 is available.\n",
      "You should consider upgrading via the '/Library/Frameworks/Python.framework/Versions/3.9/bin/python3.9 -m pip install --upgrade pip' command.\u001b[0m\u001b[33m\n",
      "\u001b[0m"
     ]
    }
   ],
   "source": [
    "! pip3 install psycopg2-binary"
   ]
  },
  {
   "cell_type": "markdown",
   "metadata": {},
   "source": [
    "Start a Postgres instance in Docker:"
   ]
  },
  {
   "cell_type": "code",
   "execution_count": 2,
   "metadata": {},
   "outputs": [
    {
     "name": "stdout",
     "output_type": "stream",
     "text": [
      "\u001b[1A\u001b[1B\u001b[0G\u001b[?25l[+] Running 0/0\n",
      " ⠋ Network database_default  Creating                                      \u001b[34m0.1s \u001b[0m\n",
      "\u001b[?25h\u001b[1A\u001b[1A\u001b[0G\u001b[?25l[+] Running 2/1\n",
      " \u001b[32m✔\u001b[0m Network database_default                \u001b[32mC...\u001b[0m                            \u001b[34m0.1s \u001b[0m\n",
      " \u001b[32m✔\u001b[0m Volume \"database_postgres_demo_volume\"  \u001b[32mCreated\u001b[0m                         \u001b[34m0.0s \u001b[0m\n",
      " ⠋ Container postgres-demo-instance        Creating                        \u001b[34m0.0s \u001b[0m\n",
      "\u001b[?25h\u001b[1A\u001b[1A\u001b[1A\u001b[1A\u001b[0G\u001b[?25l[+] Running 2/3\n",
      " \u001b[32m✔\u001b[0m Network database_default                \u001b[32mC...\u001b[0m                            \u001b[34m0.1s \u001b[0m\n",
      " \u001b[32m✔\u001b[0m Volume \"database_postgres_demo_volume\"  \u001b[32mCreated\u001b[0m                         \u001b[34m0.0s \u001b[0m\n",
      " ⠋ Container postgres-demo-instance        Creating                        \u001b[34m0.0s \u001b[0m\n",
      "\u001b[?25hError response from daemon: Conflict. The container name \"/postgres-demo-instance\" is already in use by container \"a59ef48eada3eff38fee4b1e2c4cee87cdc95dd08f60a5b3c18dc354fc248b51\". You have to remove (or rename) that container to be able to reuse that name.\n"
     ]
    }
   ],
   "source": [
    "! docker compose up -d"
   ]
  },
  {
   "cell_type": "markdown",
   "metadata": {},
   "source": [
    "Load a sample dataset:"
   ]
  },
  {
   "cell_type": "code",
   "execution_count": 3,
   "metadata": {},
   "outputs": [
    {
     "name": "stdout",
     "output_type": "stream",
     "text": [
      "/var/run/postgresql:5432 - accepting connections\n",
      "\u001b[sPreparing to copy...\u001b[?25l\u001b[u\u001b[2KCopying to container - 0B\u001b[24G\u001b[0K3.58kB\u001b[?25h\u001b[u\u001b[2KSuccessfully copied 3.58kB to postgres-demo-instance:/home\n",
      "\u001b[sPreparing to copy...\u001b[?25l\u001b[u\u001b[2KCopying to container - 0B\u001b[24G\u001b[0K22kB\u001b[?25h\u001b[u\u001b[2KSuccessfully copied 22kB to postgres-demo-instance:/home\n",
      "psql:/home/schema.sql:1: ERROR:  role \"sql_agent\" cannot be dropped because some objects depend on it\n",
      "DETAIL:  privileges for database postgres\n",
      "privileges for schema public\n",
      "privileges for default privileges on new relations belonging to role postgres in schema public\n",
      "privileges for table products\n",
      "privileges for table users\n",
      "privileges for table purchases\n",
      "privileges for table product_inventory\n",
      "DROP TABLE\n",
      "DROP TABLE\n",
      "DROP TABLE\n",
      "DROP TABLE\n",
      "DROP TYPE\n",
      "DROP TYPE\n",
      "DROP EXTENSION\n",
      "psql:/home/schema.sql:18: ERROR:  role \"sql_agent\" already exists\n",
      "GRANT\n",
      "ALTER DEFAULT PRIVILEGES\n",
      "GRANT\n",
      "GRANT\n",
      "CREATE EXTENSION\n",
      "SET\n",
      "CREATE TYPE\n",
      "CREATE TYPE\n",
      "CREATE TABLE\n",
      "CREATE TABLE\n",
      "CREATE TABLE\n",
      "CREATE TABLE\n",
      "INSERT 0 100\n",
      "INSERT 0 50\n",
      "INSERT 0 200\n",
      "INSERT 0 100\n"
     ]
    }
   ],
   "source": [
    "# Wait for Postgres to be ready\n",
    "! while ! docker exec -it postgres-demo-instance pg_isready -U postgres; do sleep 1; done\n",
    "\n",
    "# Copy the schema and data files to the container\n",
    "! docker cp ./schema.sql postgres-demo-instance:/home\n",
    "! docker cp ./data.sql postgres-demo-instance:/home\n",
    "\n",
    "# Load the dataset into the database\n",
    "! docker exec -it postgres-demo-instance psql -U postgres -c '\\i /home/schema.sql'\n",
    "! docker exec -it postgres-demo-instance psql -U postgres -c '\\i /home/data.sql'"
   ]
  }
 ],
 "metadata": {
  "kernelspec": {
   "display_name": "Python 3",
   "language": "python",
   "name": "python3"
  },
  "language_info": {
   "codemirror_mode": {
    "name": "ipython",
    "version": 3
   },
   "file_extension": ".py",
   "mimetype": "text/x-python",
   "name": "python",
   "nbconvert_exporter": "python",
   "pygments_lexer": "ipython3",
   "version": "3.11.7"
  }
 },
 "nbformat": 4,
 "nbformat_minor": 2
}
